{
 "cells": [
  {
   "cell_type": "code",
   "execution_count": 1,
   "id": "4187aa5f",
   "metadata": {
    "executionInfo": {
     "elapsed": 10,
     "status": "ok",
     "timestamp": 1759177430013,
     "user": {
      "displayName": "Evan C",
      "userId": "04148525930264943910"
     },
     "user_tz": 420
    },
    "id": "4187aa5f"
   },
   "outputs": [],
   "source": [
    "import gzip\n",
    "import json\n",
    "import dateutil.parser\n",
    "import random"
   ]
  },
  {
   "cell_type": "code",
   "execution_count": null,
   "id": "7d10c03b",
   "metadata": {
    "colab": {
     "base_uri": "https://localhost:8080/",
     "height": 314
    },
    "executionInfo": {
     "elapsed": 31,
     "status": "error",
     "timestamp": 1759177431531,
     "user": {
      "displayName": "Evan C",
      "userId": "04148525930264943910"
     },
     "user_tz": 420
    },
    "id": "7d10c03b",
    "outputId": "49c2f1e7-024c-459b-a133-fd5cfef4cdfc"
   },
   "outputs": [],
   "source": [
    "import import_ipynb #may want to test using hw1_stub, change the imports\n",
    "import homework1"
   ]
  },
  {
   "cell_type": "code",
   "execution_count": 10,
   "id": "67e983fe",
   "metadata": {
    "executionInfo": {
     "elapsed": 3,
     "status": "ok",
     "timestamp": 1759177450748,
     "user": {
      "displayName": "Evan C",
      "userId": "04148525930264943910"
     },
     "user_tz": 420
    },
    "id": "67e983fe"
   },
   "outputs": [],
   "source": [
    "root = \"\""
   ]
  },
  {
   "cell_type": "code",
   "execution_count": 12,
   "id": "9506e4ea",
   "metadata": {
    "colab": {
     "base_uri": "https://localhost:8080/",
     "height": 339
    },
    "executionInfo": {
     "elapsed": 13,
     "status": "error",
     "timestamp": 1759177451486,
     "user": {
      "displayName": "Evan C",
      "userId": "04148525930264943910"
     },
     "user_tz": 420
    },
    "id": "9506e4ea",
    "outputId": "f2a65590-265a-4719-d3e0-82294d5d9ddb"
   },
   "outputs": [],
   "source": [
    "f = gzip.open(root + \"fantasy_10000.json.gz\")\n",
    "dataset = []\n",
    "for l in f:\n",
    "    dataset.append(json.loads(l))"
   ]
  },
  {
   "cell_type": "code",
   "execution_count": 13,
   "id": "fa1c922a",
   "metadata": {
    "id": "fa1c922a"
   },
   "outputs": [
    {
     "data": {
      "text/plain": [
       "{'user_id': '8842281e1d1347389f2ab93d60773d4d',\n",
       " 'book_id': '18245960',\n",
       " 'review_id': 'dfdbb7b0eb5a7e4c26d59a937e2e5feb',\n",
       " 'rating': 5,\n",
       " 'review_text': 'This is a special book. It started slow for about the first third, then in the middle third it started to get interesting, then the last third blew my mind. This is what I love about good science fiction - it pushes your thinking about where things can go. \\n It is a 2015 Hugo winner, and translated from its original Chinese, which made it interesting in just a different way from most things I\\'ve read. For instance the intermixing of Chinese revolutionary history - how they kept accusing people of being \"reactionaries\", etc. \\n It is a book about science, and aliens. The science described in the book is impressive - its a book grounded in physics and pretty accurate as far as I could tell. Though when it got to folding protons into 8 dimensions I think he was just making stuff up - interesting to think about though. \\n But what would happen if our SETI stations received a message - if we found someone was out there - and the person monitoring and answering the signal on our side was disillusioned? That part of the book was a bit dark - I would like to think human reaction to discovering alien civilization that is hostile would be more like Enders Game where we would band together. \\n I did like how the book unveiled the Trisolaran culture through the game. It was a smart way to build empathy with them and also understand what they\\'ve gone through across so many centuries. And who know a 3 body problem was an unsolvable math problem? But I still don\\'t get who made the game - maybe that will come in the next book. \\n I loved this quote: \\n \"In the long history of scientific progress, how many protons have been smashed apart in accelerators by physicists? How many neutrons and electrons? Probably no fewer than a hundred million. Every collision was probably the end of the civilizations and intelligences in a microcosmos. In fact, even in nature, the destruction of universes must be happening at every second--for example, through the decay of neutrons. Also, a high-energy cosmic ray entering the atmosphere may destroy thousands of such miniature universes....\"',\n",
       " 'date_added': 'Sun Jul 30 07:44:10 -0700 2017',\n",
       " 'date_updated': 'Wed Aug 30 00:00:26 -0700 2017',\n",
       " 'read_at': 'Sat Aug 26 12:05:52 -0700 2017',\n",
       " 'started_at': 'Tue Aug 15 13:23:18 -0700 2017',\n",
       " 'n_votes': 28,\n",
       " 'n_comments': 1}"
      ]
     },
     "execution_count": 13,
     "metadata": {},
     "output_type": "execute_result"
    }
   ],
   "source": [
    "dataset[0]"
   ]
  },
  {
   "cell_type": "code",
   "execution_count": 14,
   "id": "1dce3b43",
   "metadata": {
    "id": "1dce3b43"
   },
   "outputs": [],
   "source": [
    "for d in dataset:\n",
    "    t = dateutil.parser.parse(d['date_added'])\n",
    "    d['parsed_date'] = t"
   ]
  },
  {
   "cell_type": "code",
   "execution_count": 15,
   "id": "038717f1",
   "metadata": {
    "id": "038717f1"
   },
   "outputs": [
    {
     "data": {
      "text/plain": [
       "{'user_id': '8842281e1d1347389f2ab93d60773d4d',\n",
       " 'book_id': '18245960',\n",
       " 'review_id': 'dfdbb7b0eb5a7e4c26d59a937e2e5feb',\n",
       " 'rating': 5,\n",
       " 'review_text': 'This is a special book. It started slow for about the first third, then in the middle third it started to get interesting, then the last third blew my mind. This is what I love about good science fiction - it pushes your thinking about where things can go. \\n It is a 2015 Hugo winner, and translated from its original Chinese, which made it interesting in just a different way from most things I\\'ve read. For instance the intermixing of Chinese revolutionary history - how they kept accusing people of being \"reactionaries\", etc. \\n It is a book about science, and aliens. The science described in the book is impressive - its a book grounded in physics and pretty accurate as far as I could tell. Though when it got to folding protons into 8 dimensions I think he was just making stuff up - interesting to think about though. \\n But what would happen if our SETI stations received a message - if we found someone was out there - and the person monitoring and answering the signal on our side was disillusioned? That part of the book was a bit dark - I would like to think human reaction to discovering alien civilization that is hostile would be more like Enders Game where we would band together. \\n I did like how the book unveiled the Trisolaran culture through the game. It was a smart way to build empathy with them and also understand what they\\'ve gone through across so many centuries. And who know a 3 body problem was an unsolvable math problem? But I still don\\'t get who made the game - maybe that will come in the next book. \\n I loved this quote: \\n \"In the long history of scientific progress, how many protons have been smashed apart in accelerators by physicists? How many neutrons and electrons? Probably no fewer than a hundred million. Every collision was probably the end of the civilizations and intelligences in a microcosmos. In fact, even in nature, the destruction of universes must be happening at every second--for example, through the decay of neutrons. Also, a high-energy cosmic ray entering the atmosphere may destroy thousands of such miniature universes....\"',\n",
       " 'date_added': 'Sun Jul 30 07:44:10 -0700 2017',\n",
       " 'date_updated': 'Wed Aug 30 00:00:26 -0700 2017',\n",
       " 'read_at': 'Sat Aug 26 12:05:52 -0700 2017',\n",
       " 'started_at': 'Tue Aug 15 13:23:18 -0700 2017',\n",
       " 'n_votes': 28,\n",
       " 'n_comments': 1,\n",
       " 'parsed_date': datetime.datetime(2017, 7, 30, 7, 44, 10, tzinfo=tzoffset(None, -25200))}"
      ]
     },
     "execution_count": 15,
     "metadata": {},
     "output_type": "execute_result"
    }
   ],
   "source": [
    "dataset[0]"
   ]
  },
  {
   "cell_type": "code",
   "execution_count": null,
   "id": "8de30310",
   "metadata": {
    "id": "8de30310"
   },
   "outputs": [],
   "source": [
    "dataset4 = dataset[:]\n",
    "random.seed(0)\n",
    "random.shuffle(dataset4)"
   ]
  },
  {
   "cell_type": "code",
   "execution_count": null,
   "id": "57b3c56c",
   "metadata": {
    "id": "57b3c56c"
   },
   "outputs": [],
   "source": [
    "f = open(\"/home/julian/Downloads/beer_50000.json\")\n",
    "datasetB = []\n",
    "for l in f:\n",
    "    datasetB.append(eval(l))"
   ]
  },
  {
   "cell_type": "code",
   "execution_count": null,
   "id": "b81595ca",
   "metadata": {
    "id": "b81595ca"
   },
   "outputs": [],
   "source": [
    "datasetB[0]"
   ]
  },
  {
   "cell_type": "code",
   "execution_count": null,
   "id": "ecc5a342",
   "metadata": {
    "id": "ecc5a342"
   },
   "outputs": [],
   "source": [
    "def testQ1():\n",
    "    theta1, MSE1 = homework1.Q1(dataset)\n",
    "    # The autograder will compare these answers to a reference solution\n",
    "    print(theta1)\n",
    "    print(MSE1)"
   ]
  },
  {
   "cell_type": "code",
   "execution_count": null,
   "id": "a4230136",
   "metadata": {
    "id": "a4230136"
   },
   "outputs": [],
   "source": [
    "def testQ2():\n",
    "    X, Y, MSE = homework1.Q2(dataset)\n",
    "    print((X[0],Y[0],MSE))"
   ]
  },
  {
   "cell_type": "code",
   "execution_count": null,
   "id": "38bea736",
   "metadata": {
    "id": "38bea736"
   },
   "outputs": [],
   "source": [
    "def testQ3():\n",
    "    X, Y, MSE = homework1.Q3(dataset)\n",
    "    print((X[0],Y[0],MSE))"
   ]
  },
  {
   "cell_type": "code",
   "execution_count": null,
   "id": "ae790154",
   "metadata": {
    "id": "ae790154"
   },
   "outputs": [],
   "source": [
    "def testQ4():\n",
    "    test_mse2, test_mse3 = homework1.Q4(dataset4)\n",
    "    print((test_mse2, test_mse3))"
   ]
  },
  {
   "cell_type": "code",
   "execution_count": null,
   "id": "ede95f2b",
   "metadata": {
    "id": "ede95f2b"
   },
   "outputs": [],
   "source": [
    "def testQ5():\n",
    "    TP, TN, FP, FN, BER = homework1.Q5(datasetB, homework1.featureQ5)\n",
    "    print((TP, TN, FP, FN, BER))"
   ]
  },
  {
   "cell_type": "code",
   "execution_count": null,
   "id": "622bb102",
   "metadata": {
    "id": "622bb102"
   },
   "outputs": [],
   "source": [
    "def testQ6():\n",
    "    precs = homework1.Q6(datasetB)\n",
    "    print(precs)"
   ]
  },
  {
   "cell_type": "code",
   "execution_count": null,
   "id": "633cbbdc",
   "metadata": {
    "id": "633cbbdc"
   },
   "outputs": [],
   "source": [
    "def testQ7():\n",
    "    _, _, _, _, BER5 = homework1.Q5(datasetB, homework1.featureQ5)\n",
    "    _, _, _, _, BER7 = homework1.Q5(datasetB, homework1.featureQ7)\n",
    "    print((BER5,BER7))"
   ]
  },
  {
   "cell_type": "code",
   "execution_count": null,
   "id": "00360d4a",
   "metadata": {
    "id": "00360d4a"
   },
   "outputs": [],
   "source": []
  },
  {
   "cell_type": "code",
   "execution_count": null,
   "id": "e56353ab",
   "metadata": {
    "id": "e56353ab"
   },
   "outputs": [],
   "source": [
    "testQ1()"
   ]
  },
  {
   "cell_type": "code",
   "execution_count": null,
   "id": "4252f8c4",
   "metadata": {
    "id": "4252f8c4"
   },
   "outputs": [],
   "source": [
    "testQ2()"
   ]
  },
  {
   "cell_type": "code",
   "execution_count": null,
   "id": "22f0ca7f",
   "metadata": {
    "id": "22f0ca7f"
   },
   "outputs": [],
   "source": [
    "testQ3()"
   ]
  },
  {
   "cell_type": "code",
   "execution_count": null,
   "id": "f55aa483",
   "metadata": {
    "id": "f55aa483"
   },
   "outputs": [],
   "source": [
    "testQ4()"
   ]
  },
  {
   "cell_type": "code",
   "execution_count": null,
   "id": "f8a37086",
   "metadata": {
    "id": "f8a37086"
   },
   "outputs": [],
   "source": [
    "testQ5()"
   ]
  },
  {
   "cell_type": "code",
   "execution_count": null,
   "id": "13a7b110",
   "metadata": {
    "id": "13a7b110"
   },
   "outputs": [],
   "source": [
    "testQ6()"
   ]
  },
  {
   "cell_type": "code",
   "execution_count": null,
   "id": "a76de3cd",
   "metadata": {
    "id": "a76de3cd"
   },
   "outputs": [],
   "source": [
    "testQ7()"
   ]
  },
  {
   "cell_type": "code",
   "execution_count": null,
   "id": "30c84736",
   "metadata": {
    "id": "30c84736"
   },
   "outputs": [],
   "source": []
  }
 ],
 "metadata": {
  "colab": {
   "provenance": []
  },
  "kernelspec": {
   "display_name": ".venv",
   "language": "python",
   "name": "python3"
  },
  "language_info": {
   "codemirror_mode": {
    "name": "ipython",
    "version": 3
   },
   "file_extension": ".py",
   "mimetype": "text/x-python",
   "name": "python",
   "nbconvert_exporter": "python",
   "pygments_lexer": "ipython3",
   "version": "3.11.9"
  }
 },
 "nbformat": 4,
 "nbformat_minor": 5
}
